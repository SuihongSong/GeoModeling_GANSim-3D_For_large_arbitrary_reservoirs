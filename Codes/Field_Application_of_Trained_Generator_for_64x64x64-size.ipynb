{
 "cells": [
  {
   "cell_type": "code",
   "execution_count": 2,
   "metadata": {
    "colab": {},
    "colab_type": "code",
    "collapsed": true,
    "id": "8jgUsEadetYM",
    "scrolled": false
   },
   "outputs": [],
   "source": [
    "import sys\n",
    "import pickle\n",
    "import numpy as np\n",
    "import tensorflow as tf\n",
    "import PIL.Image\n",
    "%matplotlib inline\n",
    "import matplotlib.pyplot as plt"
   ]
  },
  {
   "cell_type": "markdown",
   "metadata": {},
   "source": [
    "##### Set the path to directory containing code of this case"
   ]
  },
  {
   "cell_type": "code",
   "execution_count": 3,
   "metadata": {
    "collapsed": true
   },
   "outputs": [],
   "source": [
    "new_path = r'/home/users/suihong/5-karstcave3D_Complete_cond_well_globalfeatures_probmap_Upload/' \n",
    "sys.path.append(new_path)"
   ]
  },
  {
   "cell_type": "markdown",
   "metadata": {},
   "source": [
    "### 1. Import pre-trained Network"
   ]
  },
  {
   "cell_type": "markdown",
   "metadata": {},
   "source": [
    "#### Set path to trained network"
   ]
  },
  {
   "cell_type": "code",
   "execution_count": 4,
   "metadata": {
    "collapsed": true
   },
   "outputs": [],
   "source": [
    "network_dir = '/scratch/users/suihong/CaveSimulation/GANTrainingResults/110-pgan3D-4gpu-V100-OnlyCV-LC_8-GANw_2-NoLabelCond-CondWell_0.7-Enlarg-CondProb_1/'\n",
    "network_name = 'network-snapshot-003360.pkl'"
   ]
  },
  {
   "cell_type": "code",
   "execution_count": 5,
   "metadata": {
    "collapsed": true,
    "scrolled": false
   },
   "outputs": [],
   "source": [
    "# Initialize TensorFlow session.\n",
    "tf.InteractiveSession()\n",
    "\n",
    "# Import networks.\n",
    "with open(network_dir+network_name, 'rb') as file:\n",
    "    G, D, Gs = pickle.load(file)\n",
    "    \n",
    "del G"
   ]
  },
  {
   "cell_type": "markdown",
   "metadata": {},
   "source": [
    "### 2. Import conditioning data from field measurements"
   ]
  },
  {
   "cell_type": "markdown",
   "metadata": {},
   "source": [
    "#### 2.1 Well facies data"
   ]
  },
  {
   "cell_type": "code",
   "execution_count": 6,
   "metadata": {},
   "outputs": [
    {
     "name": "stdout",
     "output_type": "stream",
     "text": [
      "(262144, 5)\n",
      "(1, 1, 64, 64, 64)\n"
     ]
    }
   ],
   "source": [
    "# Read field well data from file.\n",
    "# In the file, the data are like following with I, J, K, well facies code (-99 means No well), cave probability value\n",
    "# 1 1 1 -99.00 0.140967 \n",
    "# 2 1 1 -99.00 0.148176 \n",
    "# 3 1 1 -99.00 0.154223\n",
    "#\n",
    "#\n",
    "welldata_path = '/scratch/users/suihong/CaveSimulation/PracticalDataFromTahe/TK6112_3D_well_prob'\n",
    "\n",
    "allele=[] \n",
    "with open(welldata_path, 'r') as f:\n",
    "    for line in f:\n",
    "        eles = line.strip().split(' ')\n",
    "        allele.append(eles)\n",
    "\n",
    "allfiledata = np.array(allele, dtype = float).reshape((-1, 5))\n",
    "print(allfiledata.shape)\n",
    "welldata = allfiledata[:, 3].reshape((1, 1, 64, 64, 64)).transpose(0,1,3, 4, 2) # -99 means none, 0 means noncave, 1 means cave\n",
    "welldata = welldata[:,:,::-1,:,::-1]\n",
    "print(welldata.shape)"
   ]
  },
  {
   "cell_type": "code",
   "execution_count": 7,
   "metadata": {},
   "outputs": [
    {
     "name": "stdout",
     "output_type": "stream",
     "text": [
      "(1, 2, 64, 64, 64)\n"
     ]
    }
   ],
   "source": [
    "well_points = np.where(welldata == -99, 0, 1)\n",
    "well_facies_types = np.where(welldata == -99, 0, welldata)\n",
    "well_facies_input = np.concatenate([well_points, well_facies_types], 1)      \n",
    "print(well_facies_input.shape)"
   ]
  },
  {
   "cell_type": "code",
   "execution_count": 8,
   "metadata": {
    "collapsed": true
   },
   "outputs": [],
   "source": [
    "### Enlarge area of each well occupies from 1x1 into 4 x 4 as inputs\n",
    "###  following \"mask\" is only for better displaying in figures\n",
    "well_facies_input = well_facies_input.astype(np.float32)\n",
    "with tf.device('/gpu:0'):\n",
    "    well_facies_input_enlarge = tf.nn.max_pool3d(well_facies_input, ksize = [1,1,4,4,4], strides=[1,1,1,1,1], padding='SAME', data_format='NCDHW') \n",
    "\n",
    "with tf.Session() as sess: \n",
    "    sess.run(tf.global_variables_initializer())\n",
    "    well_facies_input_el = sess.run(well_facies_input_enlarge)\n",
    "\n",
    "# make mask of output well facies data \n",
    "well_facies_input_el_onechannel = well_facies_input_el[:,0:1]+well_facies_input_el[:,1:2]\n",
    "well_facies_input_el_onechannel_mask = np.ma.masked_where(well_facies_input_el_onechannel == 0, well_facies_input_el_onechannel)\n",
    "cmap_well = plt.cm.viridis  # Can be any colormap that you want after the cm   '.\n",
    "cmap_well.set_bad(color='white')"
   ]
  },
  {
   "cell_type": "markdown",
   "metadata": {},
   "source": [
    "#### 2.2 Probability maps"
   ]
  },
  {
   "cell_type": "code",
   "execution_count": 9,
   "metadata": {},
   "outputs": [
    {
     "name": "stdout",
     "output_type": "stream",
     "text": [
      "(1, 1, 64, 64, 64)\n"
     ]
    }
   ],
   "source": [
    "from scipy import ndimage\n",
    "\n",
    "probdata = allfiledata[:, 4].reshape((1, 1, 64, 64, 64)).transpose(0,1,3, 4, 2)\n",
    "probdata = probdata[:,:,::-1,:,::-1]\n",
    "\n",
    "print(probdata.shape)\n",
    "probdata = np.where(probdata < 0.05, 0.05, probdata)"
   ]
  },
  {
   "cell_type": "code",
   "execution_count": 10,
   "metadata": {
    "scrolled": false
   },
   "outputs": [
    {
     "data": {
      "text/plain": [
       "<matplotlib.colorbar.Colorbar at 0x7f53bdaf40f0>"
      ]
     },
     "execution_count": 10,
     "metadata": {},
     "output_type": "execute_result"
    },
    {
     "data": {
      "image/png": "[encoded data removed]",
      "text/plain": [
       "<Figure size 432x288 with 2 Axes>"
      ]
     },
     "metadata": {},
     "output_type": "display_data"
    }
   ],
   "source": [
    "plt.imshow(probdata[0,0,:,:,30], vmin = 0, vmax = 0.4)\n",
    "plt.colorbar()"
   ]
  },
  {
   "cell_type": "markdown",
   "metadata": {},
   "source": [
    "### 3. Generating cave facies models using trained generator by taking the conditioning data as inputs"
   ]
  },
  {
   "cell_type": "code",
   "execution_count": 11,
   "metadata": {},
   "outputs": [
    {
     "name": "stdout",
     "output_type": "stream",
     "text": [
      "[[None, 8, 4, 4, 4], [None, 0, 4, 4, 4], [None, 2, 64, 64, 64], [None, 1, 64, 64, 64]]\n"
     ]
    }
   ],
   "source": [
    "print(Gs.input_shapes)"
   ]
  },
  {
   "cell_type": "markdown",
   "metadata": {},
   "source": [
    "##### producing 400 random facies models"
   ]
  },
  {
   "cell_type": "code",
   "execution_count": 13,
   "metadata": {
    "scrolled": false
   },
   "outputs": [
    {
     "name": "stdout",
     "output_type": "stream",
     "text": [
      "0.024746510982513428\n"
     ]
    }
   ],
   "source": [
    "import time\n",
    "\n",
    "start_time = time.time()\n",
    "\n",
    "TotalReal_no_tk6112 = 400\n",
    "condfakemodels_tk6112 = np.zeros([TotalReal_no_tk6112, 1, 64, 64, 64])\n",
    "latents_tk6112 = np.random.RandomState(1315).randn(TotalReal_no_tk6112, 8, 4, 4, 4)\n",
    "for i in range(int(TotalReal_no_tk6112/10)):\n",
    "    latents_i_tk6112 = latents_tk6112[i*10:(i+1)*10]\n",
    "    labels2_i_tk6112 = np.random.randn(10, 0, 4, 4, 4)  #.RandomState(816)\n",
    "    well_facies_plt = np.repeat(well_facies_input_el, 10, axis=0)\n",
    "    probcube_plt = np.repeat(probdata, 10, axis=0)  \n",
    "    fakemodels_i = Gs.run(latents_i_tk6112, labels2_i_tk6112, well_facies_plt, probcube_plt)\n",
    "    fakemodels_i = np.where(fakemodels_i< 0, -1, 1)\n",
    "    condfakemodels_tk6112[i*10:(i+1)*10] = fakemodels_i\n",
    "\n",
    "end_time = time.time()\n",
    "\n",
    "time_each = (end_time - start_time)/400\n",
    "print(time_each)\n",
    "\n",
    "condfakemodels_tk6112_a = (condfakemodels_tk6112 + 1)/2\n",
    "condfakemodels_tk6112_average = np.average(condfakemodels_tk6112_a, axis = 0)  # calcualte frequency map of cave facies, i.e., E-type"
   ]
  },
  {
   "cell_type": "markdown",
   "metadata": {},
   "source": [
    "##### Displaying horizontal slices of z = 32th cell from top"
   ]
  },
  {
   "cell_type": "code",
   "execution_count": 16,
   "metadata": {},
   "outputs": [
    {
     "data": {
      "text/plain": [
       "<matplotlib.image.AxesImage at 0x7f53bc807a58>"
      ]
     },
     "execution_count": 16,
     "metadata": {},
     "output_type": "execute_result"
    },
    {
     "data": {
      "image/png": "[encoded data removed]",
      "text/plain": [
       "<Figure size 1296x144 with 9 Axes>"
      ]
     },
     "metadata": {},
     "output_type": "display_data"
    }
   ],
   "source": [
    "plt.rcParams.update({'font.size': 14})\n",
    "fig, ax = plt.subplots(1, 9, sharex='col', sharey='row')\n",
    "fig.set_size_inches(18, 2, forward=True)\n",
    "\n",
    "ax[0].imshow(well_facies_input_el_onechannel_mask[0,0,:,:,32], cmap=cmap_well, vmin=1, vmax=2)\n",
    "ax[1].imshow(probdata[0,0,:,:,32], vmin = 0, vmax = 0.5)\n",
    "\n",
    "for j in range(6):\n",
    "    ax[j+2].imshow(condfakemodels_tk6112[j,0,:,:,28])\n",
    "ax[8].imshow(condfakemodels_tk6112_average[0,:,:,28], vmin = 0, vmax = 0.5)   # E-type\n",
    "\n",
    "#plt.savefig(network_dir + \"simulations conditioned to practical well and prob_in TK6112_12.png\", dpi=200) "
   ]
  },
  {
   "cell_type": "code",
   "execution_count": 17,
   "metadata": {
    "scrolled": true
   },
   "outputs": [
    {
     "name": "stdout",
     "output_type": "stream",
     "text": [
      "[None, 1, 64, 64, 64]\n"
     ]
    }
   ],
   "source": [
    "print(D.input_shape)\n",
    "\n",
    "scores_all = np.zeros((400,1))\n",
    "for i in range(100):\n",
    "    scores = D.run(condfakemodels_tk6112[i*4:(i+1)*4])\n",
    "    \n",
    "    scores_all[i*4:(i+1)*4] = scores[0]\n",
    "\n",
    "score_ind = np.argsort(scores_all.reshape(-1))"
   ]
  },
  {
   "cell_type": "code",
   "execution_count": 19,
   "metadata": {},
   "outputs": [
    {
     "data": {
      "text/plain": [
       "<matplotlib.image.AxesImage at 0x7f53b4cf4080>"
      ]
     },
     "execution_count": 19,
     "metadata": {},
     "output_type": "execute_result"
    },
    {
     "data": {
      "image/png": "[encoded data removed]",
      "text/plain": [
       "<Figure size 1296x720 with 45 Axes>"
      ]
     },
     "metadata": {},
     "output_type": "display_data"
    }
   ],
   "source": [
    "plt.rcParams.update({'font.size': 14})\n",
    "fig, ax = plt.subplots(5, 9, sharex='col', sharey='row')\n",
    "fig.set_size_inches(18, 10, forward=True)\n",
    "\n",
    "ax[0, 0].imshow(well_facies_input_el_onechannel_mask[0,0,:,:,32], cmap=cmap_well, vmin=1, vmax=2)\n",
    "ax[0, 1].imshow(probdata[0,0, :,:,32], vmin = 0, vmax = 0.5)\n",
    "\n",
    "for j in range(7):\n",
    "    ax[0, j+2].imshow(condfakemodels_tk6112[score_ind[369-j],0,:,:, 28])\n",
    "\n",
    "for i in range(1, 5):\n",
    "    for j in range(9):\n",
    "        ax[i, j].imshow(condfakemodels_tk6112[score_ind[369-(7+(i-1)*9+j)],0,:,:,28])\n",
    "        \n",
    "ax[i, j].imshow(condfakemodels_tk6112_average[0,:,:,28], vmin = 0, vmax = 0.5)    \n",
    "#plt.savefig(network_dir + \"3Dsimulations conditioned to practical probdata_in TK6112_all_1.png\", dpi=200) "
   ]
  },
  {
   "cell_type": "markdown",
   "metadata": {},
   "source": [
    "### 3.  Export generated realizations for displaying in Petrel software"
   ]
  },
  {
   "cell_type": "markdown",
   "metadata": {},
   "source": [
    "##### Preparing index of I J K needed in the file"
   ]
  },
  {
   "cell_type": "code",
   "execution_count": 20,
   "metadata": {},
   "outputs": [
    {
     "name": "stdout",
     "output_type": "stream",
     "text": [
      "(64, 64, 64)\n",
      "(262144, 3)\n"
     ]
    }
   ],
   "source": [
    "onecube = np.zeros([condfakemodels_tk6112.shape[4],condfakemodels_tk6112.shape[2],condfakemodels_tk6112.shape[3]])\n",
    "print(onecube.shape)\n",
    "coords = np.argwhere(onecube>-1)\n",
    "print(coords.shape)\n",
    "coords_output = np.zeros(coords.shape)\n",
    "coords_output[:,0] = coords[:,2]+1\n",
    "coords_output[:,1] = coords[:,1]+1\n",
    "coords_output[:,2] = condfakemodels_tk6112.shape[4] - coords[:,0]\n",
    "coords_output = coords_output.astype(np.int8)"
   ]
  },
  {
   "cell_type": "code",
   "execution_count": 21,
   "metadata": {},
   "outputs": [
    {
     "name": "stdout",
     "output_type": "stream",
     "text": [
      "(400, 1, 64, 64, 64)\n"
     ]
    }
   ],
   "source": [
    "print(condfakemodels_tk6112.shape)"
   ]
  },
  {
   "cell_type": "markdown",
   "metadata": {},
   "source": [
    "##### Export realizations"
   ]
  },
  {
   "cell_type": "code",
   "execution_count": 22,
   "metadata": {},
   "outputs": [
    {
     "name": "stdout",
     "output_type": "stream",
     "text": [
      "(400, 1, 64, 64, 64)\n",
      "(262144, 33)\n"
     ]
    }
   ],
   "source": [
    "print(condfakemodels_tk6112.shape)\n",
    "condfakemodels_TK6112_output = condfakemodels_tk6112[score_ind[-31:-1]].transpose(0,1,4,2,3)[:,:,:,::-1,:].reshape(-1, coords.shape[0]).T.astype(np.int)\n",
    "condfakemodels_TK6112_output = np.where(condfakemodels_TK6112_output>0,1,-99)\n",
    "condfakemodels_TK6112_output_txt = np.concatenate((coords_output, condfakemodels_TK6112_output), axis = 1)\n",
    "print(condfakemodels_TK6112_output_txt.shape)"
   ]
  },
  {
   "cell_type": "code",
   "execution_count": 25,
   "metadata": {},
   "outputs": [],
   "source": [
    "condfakemodels_TK6112_fname = '/scratch/users/suihong/CaveSimulation/PracticalDataFromTahe/CondFakeFaciesModels_110_3360_TK6112.txt'\n",
    "np.savetxt(condfakemodels_TK6112_fname, condfakemodels_TK6112_output_txt, fmt='%i', newline='\\n')   # \"%03d\" + \"%.10f\"*7"
   ]
  },
  {
   "cell_type": "markdown",
   "metadata": {},
   "source": [
    "##### Export frequency map of cave"
   ]
  },
  {
   "cell_type": "code",
   "execution_count": 26,
   "metadata": {},
   "outputs": [
    {
     "name": "stdout",
     "output_type": "stream",
     "text": [
      "(1, 64, 64, 64)\n",
      "(262144, 4)\n"
     ]
    }
   ],
   "source": [
    "print(condfakemodels_tk6112_average.shape)\n",
    "condfakemodels_tk6112_average_1 = np.expand_dims(condfakemodels_tk6112_average, axis=0)\n",
    "condfakemodels_tk6112_average_output = condfakemodels_tk6112_average_1.transpose(0,1,4,2,3)[:,:,:,::-1,:].reshape(-1, coords.shape[0]).T\n",
    "condfakemodels_tk6112_average_output_txt = np.concatenate((coords_output, condfakemodels_tk6112_average_output), axis = 1)\n",
    "print(condfakemodels_tk6112_average_output_txt.shape)"
   ]
  },
  {
   "cell_type": "code",
   "execution_count": 27,
   "metadata": {
    "collapsed": true
   },
   "outputs": [],
   "source": [
    "condfakemodels_tk6112_average_output_fname = '/scratch/users/suihong/CaveSimulation/PracticalDataFromTahe/CondFakeFaciesModels_110_3360_TK6112_av.txt'\n",
    "np.savetxt(condfakemodels_tk6112_average_output_fname, condfakemodels_tk6112_average_output_txt, fmt='%i '*3 + \"%3.2f \", newline='\\n')   # \"%03d\" + \"%.10f\"*7"
   ]
  },
  {
   "cell_type": "code",
   "execution_count": 28,
   "metadata": {
    "scrolled": false
   },
   "outputs": [
    {
     "name": "stdout",
     "output_type": "stream",
     "text": [
      "(1, 64, 64, 64)\n"
     ]
    }
   ],
   "source": [
    "print(condfakemodels_tk6112_average.shape)"
   ]
  },
  {
   "cell_type": "code",
   "execution_count": 29,
   "metadata": {},
   "outputs": [
    {
     "data": {
      "text/plain": [
       "<matplotlib.colorbar.Colorbar at 0x7f53b48c13c8>"
      ]
     },
     "execution_count": 29,
     "metadata": {},
     "output_type": "execute_result"
    },
    {
     "data": {
      "image/png": "[encoded data removed]",
      "text/plain": [
       "<Figure size 432x288 with 2 Axes>"
      ]
     },
     "metadata": {},
     "output_type": "display_data"
    }
   ],
   "source": [
    "plt.imshow(condfakemodels_tk6112_average[0,:,:,30])\n",
    "plt.colorbar()"
   ]
  },
  {
   "cell_type": "code",
   "execution_count": null,
   "metadata": {
    "collapsed": true
   },
   "outputs": [],
   "source": []
  }
 ],
 "metadata": {
  "accelerator": "GPU",
  "colab": {
   "collapsed_sections": [],
   "name": "Application and label conditioning accuracy analyses of Trained model.ipynb",
   "provenance": [],
   "version": "0.3.2"
  },
  "kernelspec": {
   "display_name": "Python 3",
   "language": "python",
   "name": "python3"
  },
  "language_info": {
   "codemirror_mode": {
    "name": "ipython",
    "version": 3
   },
   "file_extension": ".py",
   "mimetype": "text/x-python",
   "name": "python",
   "nbconvert_exporter": "python",
   "pygments_lexer": "ipython3",
   "version": "3.6.1"
  }
 },
 "nbformat": 4,
 "nbformat_minor": 1
}
